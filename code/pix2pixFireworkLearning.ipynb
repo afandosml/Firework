{
  "nbformat": 4,
  "nbformat_minor": 0,
  "metadata": {
    "colab": {
      "name": "pix2pixFireworkLearning.ipynb",
      "provenance": []
    },
    "kernelspec": {
      "name": "python3",
      "display_name": "Python 3"
    },
    "accelerator": "GPU"
  },
  "cells": [
    {
      "cell_type": "code",
      "metadata": {
        "id": "_Co06qAz1COU",
        "colab_type": "code",
        "colab": {}
      },
      "source": [
        "from google.colab import drive\n",
        "drive.mount('/content/drive', force_remount=True)"
      ],
      "execution_count": 0,
      "outputs": []
    },
    {
      "cell_type": "code",
      "metadata": {
        "id": "SSNcaMkHKlEl",
        "colab_type": "code",
        "colab": {}
      },
      "source": [
        "%tensorflow_version 2.x"
      ],
      "execution_count": 0,
      "outputs": []
    },
    {
      "cell_type": "code",
      "metadata": {
        "id": "-rhQ3C7J7CxR",
        "colab_type": "code",
        "colab": {}
      },
      "source": [
        "!pip install gast==0.2.2"
      ],
      "execution_count": 0,
      "outputs": []
    },
    {
      "cell_type": "code",
      "metadata": {
        "id": "mF6J4Tcg1vQM",
        "colab_type": "code",
        "colab": {}
      },
      "source": [
        "import tensorflow as tf\n",
        "import matplotlib.pyplot as plt\n",
        "import numpy as np\n",
        "\n",
        "# Ruta Raiz\n",
        "\n",
        "PATH = \"/content/drive/My Drive/YOUR PATH\"\n",
        "\n",
        "# Ruta de datos de entrada\n",
        "INPATH = PATH + '/input'\n",
        "# Ruta de datos de salida\n",
        "OUPATH = PATH + '/target'\n",
        "# Ruta de los checkpoints\n",
        "CKPATH = PATH + '/checkpoints'\n",
        "\n",
        "imgurls = !ls -1 \"{INPATH}\"\n",
        "\n",
        "\n",
        "n = 50\n",
        "train_n = round(n * 0.80)\n",
        "\n",
        "# Listado randomizado\n",
        "randurls = np.copy(imgurls)\n",
        "\n",
        "np.random.seed(23)\n",
        "np.random.shuffle(randurls)\n",
        "\n",
        "# Partición train/test\n",
        "tr_urls = randurls[:train_n]\n",
        "ts_urls = randurls[train_n:n]\n",
        "\n",
        "print(len(imgurls), len(tr_urls), len(ts_urls))\n"
      ],
      "execution_count": 0,
      "outputs": []
    },
    {
      "cell_type": "code",
      "metadata": {
        "id": "p04_23TT3vEB",
        "colab_type": "code",
        "colab": {}
      },
      "source": [
        "IMG_WIDTH = 256\n",
        "IMG_HEIGHT = 256\n",
        "\n",
        "# Reescalar imagenes.\n",
        "def resize(inimg, tgimg, height, width):\n",
        "  inimg = tf.image.resize(inimg, [height, width])\n",
        "  tgimg = tf.image.resize(tgimg, [height, width])\n",
        "  return inimg, tgimg\n",
        "\n",
        "#Normalizas al rango [-1, +1] la imagen\n",
        "def normalize(inimg, tgimg):\n",
        "  inimg = (inimg / 127.5) - 1\n",
        "  tgimg = (tgimg / 127.5) - 1\n",
        "  return inimg, tgimg\n",
        "\n",
        "# Aumentación de datos : Random Crop + Flip\n",
        "def random_jitter(inimg, tgimg):\n",
        "  inimg, tgimg = resize(inimg, tgimg, 286, 286)\n",
        "  \n",
        "  stacked_image = tf.stack([inimg, tgimg], axis=0)\n",
        "  cropped_image = tf.image.random_crop(stacked_image, size=[2, IMG_HEIGHT, IMG_WIDTH, 3])\n",
        "  \n",
        "  inimg, tgimg = cropped_image[0], cropped_image[1]\n",
        "  \n",
        "  if tf.random.uniform(()) > 0.5:\n",
        "    inimg = tf.image.flip_left_right(inimg)\n",
        "    tgimg = tf.image.flip_left_right(tgimg)\n",
        "  return inimg, tgimg\n",
        "\n",
        "@tf.function\n",
        "def load_image(filename, augment=True):\n",
        "  inimg = tf.cast(tf.image.decode_jpeg(tf.io.read_file(INPATH + '/' + filename)), tf.float32)[..., :3]\n",
        "  tgimg = tf.cast(tf.image.decode_jpeg(tf.io.read_file(OUPATH + '/' + filename)), tf.float32)[..., :3]\n",
        "  \n",
        "  inimg, tgimg = resize(inimg, tgimg,IMG_HEIGHT, IMG_WIDTH)\n",
        "  \n",
        "  if augment:\n",
        "    inimg, tgimg = random_jitter(inimg, tgimg)\n",
        "  \n",
        "  inimg, tgimg = normalize(inimg, tgimg)\n",
        "  \n",
        "  return inimg, tgimg\n",
        "\n",
        "def load_train_image(filename):\n",
        "  return load_image(filename, False)\n",
        "\n",
        "def load_test_image(filename):\n",
        "  return load_image(filename, False)\n",
        "\n",
        "plt.imshow(((load_train_image(randurls[0])[1]) + 1) / 2)\n"
      ],
      "execution_count": 0,
      "outputs": []
    },
    {
      "cell_type": "code",
      "metadata": {
        "id": "zPP-j7vUL-H-",
        "colab_type": "code",
        "colab": {}
      },
      "source": [
        "train_dataset = tf.data.Dataset.from_tensor_slices(tr_urls)\n",
        "train_dataset = train_dataset.map(load_train_image, num_parallel_calls = tf.data.experimental.AUTOTUNE)\n",
        "train_dataset = train_dataset.batch(5)\n",
        "\n",
        "  \n",
        "test_dataset = tf.data.Dataset.from_tensor_slices(ts_urls)\n",
        "test_dataset = test_dataset.map(load_test_image, num_parallel_calls = tf.data.experimental.AUTOTUNE)\n",
        "test_dataset = test_dataset.batch(1)"
      ],
      "execution_count": 0,
      "outputs": []
    },
    {
      "cell_type": "code",
      "metadata": {
        "id": "x6APXet6OVIS",
        "colab_type": "code",
        "colab": {}
      },
      "source": [
        "from tensorflow.keras import *\n",
        "from tensorflow.keras.layers import *\n",
        "\n",
        "def downsample(filters, apply_batchnorm=True):\n",
        "  \n",
        "  result = Sequential()\n",
        "  \n",
        "  initializer = tf.random_normal_initializer(0, 0.02)\n",
        "  \n",
        "  # Capa convulocional\n",
        "  result.add(Conv2D(filters, \n",
        "                    kernel_size = 4,\n",
        "                    strides = 2,\n",
        "                    padding = \"same\",\n",
        "                    kernel_initializer= initializer,\n",
        "                    use_bias=not apply_batchnorm))\n",
        "  \n",
        "  # Capa de BatchNorm.\n",
        "  if apply_batchnorm:\n",
        "    result.add(BatchNormalization())\n",
        "  \n",
        "  # Capa de activación.\n",
        "  result.add(LeakyReLU())\n",
        "  \n",
        "  return result\n",
        "\n",
        "downsample(64)"
      ],
      "execution_count": 0,
      "outputs": []
    },
    {
      "cell_type": "code",
      "metadata": {
        "id": "CBH3UGqj2m-y",
        "colab_type": "code",
        "colab": {}
      },
      "source": [
        "def upsample(filters, apply_dropout=False):\n",
        "  \n",
        "  result = Sequential()\n",
        "  \n",
        "  initializer = tf.random_normal_initializer(0, 0.02)\n",
        "  \n",
        "  # Capa convulocional\n",
        "  result.add(Conv2DTranspose( filters, \n",
        "                              kernel_size = 4,\n",
        "                              strides = 2,\n",
        "                              padding = \"same\",\n",
        "                              kernel_initializer= initializer,\n",
        "                              use_bias=False))\n",
        "  \n",
        "  # Capa de BatchNorm.\n",
        "  result.add(BatchNormalization())\n",
        "  \n",
        "  # Capa de Dropout\n",
        "  if apply_dropout:\n",
        "    result.add(Dropout(0.5))\n",
        "  \n",
        "  # Capa de activación.\n",
        "  result.add(ReLU())\n",
        "  \n",
        "  return result\n",
        "\n",
        "upsample(64)"
      ],
      "execution_count": 0,
      "outputs": []
    },
    {
      "cell_type": "code",
      "metadata": {
        "id": "m-qC28vH3a5f",
        "colab_type": "code",
        "colab": {}
      },
      "source": [
        "def Generator():\n",
        "  \n",
        "  inputs = tf.keras.layers.Input(shape=[None, None, 3])\n",
        "  \n",
        "  down_stack = [\n",
        "      downsample(64, apply_batchnorm=False), # (bs, 128, 128, 64)\n",
        "      downsample(128),                       # (bs, 64,  64,  128)\n",
        "      downsample(256),                       # (bs, 32,  32,  256)\n",
        "      downsample(512),                       # (bs, 16,  16,  512)\n",
        "      downsample(512),                       # (bs, 8,   8,   512)\n",
        "      downsample(512),                       # (bs, 4,   4,   512)\n",
        "      downsample(512),                       # (bs, 2,   2,   512)\n",
        "      downsample(512)                        # (bs, 1,   1,   512)\n",
        "  ]\n",
        "  \n",
        "  up_stack = [\n",
        "      upsample(512, apply_dropout=True),     # (bs, 2,   2,   512)\n",
        "      upsample(512, apply_dropout=True),     # (bs, 4,   4,   512)\n",
        "      upsample(512, apply_dropout=True),     # (bs, 8,   8,   512)\n",
        "      upsample(512),                         # (bs, 16,  16,  512)\n",
        "      upsample(256),                         # (bs, 32,  32,  256)\n",
        "      upsample(128),                         # (bs, 64,  64,  128)\n",
        "      upsample(64),                          # (bs, 128, 128, 64)\n",
        "  ]\n",
        "  \n",
        "  \n",
        "  initializer = tf.random_normal_initializer(0, 0.02)\n",
        "  \n",
        "  last = Conv2DTranspose(filters = 3,\n",
        "                        kernel_size = 4,\n",
        "                        strides = 2,\n",
        "                        padding = \"same\",\n",
        "                        kernel_initializer= initializer,\n",
        "                        activation = \"tanh\")\n",
        "  \n",
        "  x = inputs\n",
        "  s = [] #skip conections\n",
        "  \n",
        "  concat = Concatenate()\n",
        "  \n",
        "  for down in down_stack:\n",
        "    x = down(x)\n",
        "    s.append(x)\n",
        "    \n",
        "  s = reversed(s[:-1])\n",
        "    \n",
        "  for up, sk in zip(up_stack, s):\n",
        "    \n",
        "    x = up(x)\n",
        "    x = concat([x, sk])\n",
        "  \n",
        "  last = last(x)\n",
        "  \n",
        "  return Model(inputs = inputs, outputs = last)\n",
        "\n",
        "generator = Generator()"
      ],
      "execution_count": 0,
      "outputs": []
    },
    {
      "cell_type": "code",
      "metadata": {
        "id": "TX42ZqlM82S9",
        "colab_type": "code",
        "colab": {}
      },
      "source": [
        "def Discriminator():\n",
        "  ini = Input(shape=[None, None, 3], name=\"input_img\")\n",
        "  gen = Input(shape=[None, None, 3], name=\"gener_img\")\n",
        "  \n",
        "  con = concatenate([ini, gen])\n",
        "  \n",
        "  initializer = tf.random_normal_initializer(0, 0.02)\n",
        "  \n",
        "  down1 = downsample(64, apply_batchnorm = False)(con)\n",
        "  down2 = downsample(128)(down1)\n",
        "  down3 = downsample(256)(down2)\n",
        "  down4 = downsample(512)(down3)\n",
        "  \n",
        "  last = tf.keras.layers.Conv2D(filters=1,\n",
        "                               kernel_size = 4,\n",
        "                               strides = 1,\n",
        "                               kernel_initializer = initializer,\n",
        "                               padding=\"same\")(down4)\n",
        "  \n",
        "  return tf.keras.Model(inputs=[ini, gen], outputs=last)\n",
        "\n",
        "discriminator = Discriminator()"
      ],
      "execution_count": 0,
      "outputs": []
    },
    {
      "cell_type": "code",
      "metadata": {
        "id": "_q36ws-WJ-9a",
        "colab_type": "code",
        "colab": {}
      },
      "source": [
        "loss_object = tf.keras.losses.BinaryCrossentropy(from_logits=True)"
      ],
      "execution_count": 0,
      "outputs": []
    },
    {
      "cell_type": "code",
      "metadata": {
        "id": "bprxc-3-K4D7",
        "colab_type": "code",
        "colab": {}
      },
      "source": [
        "def discriminator_loss(disc_real_output, disc_generated_output):\n",
        "  # Diferencia entre los true por ser real y el detectado por el discriminador.\n",
        "  real_loss = loss_object(tf.ones_like(disc_real_output), disc_real_output)\n",
        "  # Diferencia entre los false por ser generado y el detectado por el discriminador.\n",
        "  generated_loss = loss_object(tf.zeros_like(disc_generated_output), disc_generated_output)\n",
        "  \n",
        "  total_disc_loss = real_loss + generated_loss\n",
        "  \n",
        "  return total_disc_loss"
      ],
      "execution_count": 0,
      "outputs": []
    },
    {
      "cell_type": "code",
      "metadata": {
        "id": "QB9A81wrMnnq",
        "colab_type": "code",
        "colab": {}
      },
      "source": [
        "LAMBDA = 100\n",
        "\n",
        "def generator_loss(disc_generated_output, gen_output, target):\n",
        "  gan_loss = loss_object(tf.ones_like(disc_generated_output), disc_generated_output)\n",
        "  \n",
        "  #mean absolute error\n",
        "  l1_loss = tf.reduce_mean(tf.abs(target - gen_output))\n",
        "  \n",
        "  total_gen_loss = gan_loss + (LAMBDA + l1_loss)\n",
        "  \n",
        "  return total_gen_loss"
      ],
      "execution_count": 0,
      "outputs": []
    },
    {
      "cell_type": "code",
      "metadata": {
        "id": "DBkr4RP8OEe2",
        "colab_type": "code",
        "colab": {}
      },
      "source": [
        "import os\n",
        "generator_optimizer     = tf.keras.optimizers.Adam(2e-4, beta_1 = 0.5)\n",
        "discriminator_optimizer = tf.keras.optimizers.Adam(2e-4, beta_1 = 0.5)\n",
        "\n",
        "checkpoint_prefix = os.path.join(CKPATH, \"ckpt\")\n",
        "checkpoint = tf.train.Checkpoint(generator_optimizer = generator_optimizer,\n",
        "                                discrimator_optimizer = discriminator_optimizer,\n",
        "                                generator = generator,\n",
        "                                discriminator = discriminator)\n",
        "\n",
        "checkpoint.restore(tf.train.latest_checkpoint(CKPATH))"
      ],
      "execution_count": 0,
      "outputs": []
    },
    {
      "cell_type": "code",
      "metadata": {
        "id": "G3rAe4iNPRqm",
        "colab_type": "code",
        "colab": {}
      },
      "source": [
        "def generate_images(model, test_input, tar, save_filename = False, display_imgs = True):\n",
        "\n",
        "  prediction = model(test_input, training=True)\n",
        "  \n",
        "  if save_filename:\n",
        "    tf.keras.preprocessing.image.save_img(PATH + '/output/' + save_filename + '.jpg', prediction[0,...])\n",
        "  \n",
        "  plt.figure(figsize=(10,10))\n",
        "\n",
        "  display_list = [test_input[0], tar[0], prediction[0]]\n",
        "  title = ['Input Image', 'Ground Truth', 'Predicted Image']\n",
        "  \n",
        "  if display_imgs:\n",
        "    for i in range(3):\n",
        "      plt.subplot(1, 3, i+1)\n",
        "      plt.title(title[i])\n",
        "      # getting the pixel values between [0, 1] to plot it.\n",
        "      plt.imshow(display_list[i] * 0.5 + 0.5)\n",
        "      plt.axis('off')\n",
        "  plt.show()"
      ],
      "execution_count": 0,
      "outputs": []
    },
    {
      "cell_type": "code",
      "metadata": {
        "id": "LUnlnXUTRmLp",
        "colab_type": "code",
        "colab": {}
      },
      "source": [
        "@tf.function()\n",
        "def train_step(input_image, target):\n",
        "  \n",
        "  with tf.GradientTape() as gen_tape, tf.GradientTape() as discr_tape:\n",
        "    \n",
        "    output_image = generator(input_image, training = True)\n",
        "\n",
        "    output_gen_disc = discriminator([output_image, input_image], training = True)\n",
        "\n",
        "    output_trg_disc = discriminator([target, input_image], training = True)\n",
        "\n",
        "    discr_loss = discriminator_loss(output_trg_disc, output_gen_disc)\n",
        "\n",
        "    gen_loss = generator_loss(output_gen_disc,output_image, target)\n",
        "    \n",
        "    generator_grad = gen_tape.gradient(gen_loss, generator.trainable_variables)\n",
        "    \n",
        "    discriminator_grad = discr_tape.gradient(discr_loss, discriminator.trainable_variables)\n",
        "    \n",
        "    generator_optimizer.apply_gradients(zip(generator_grad, generator.trainable_variables))\n",
        "  \n",
        "    discriminator_optimizer.apply_gradients(zip(discriminator_grad, discriminator.trainable_variables))\n",
        "    "
      ],
      "execution_count": 0,
      "outputs": []
    },
    {
      "cell_type": "code",
      "metadata": {
        "id": "2N-v1jBAQKB8",
        "colab_type": "code",
        "colab": {}
      },
      "source": [
        "from IPython.display import clear_output\n",
        "\n",
        "def train(dataset, epochs):\n",
        "  for epoch in range(epochs):\n",
        "    \n",
        "    imgi = 0\n",
        "    for input_image, target in dataset:\n",
        "      print('epoch' + str(epoch) +  ' - train: ' + str(imgi) + '/' + str(len(tr_urls)))\n",
        "      imgi+=1\n",
        "      train_step(input_image, target)\n",
        "      \n",
        "      clear_output(wait=True)\n",
        "    imgi = 0\n",
        "    for inp, tar in test_dataset.take(5):\n",
        "      generate_images(generator, inp, tar, str(imgi) + '_' + str(epoch), display_imgs=True)\n",
        "      imgi+=1\n",
        "      \n",
        "    # saving (checkpoint) the model every 100 epochs\n",
        "    if (epoch + 1) % 100 == 0:\n",
        "      checkpoint.save(file_prefix = checkpoint_prefix)"
      ],
      "execution_count": 0,
      "outputs": []
    },
    {
      "cell_type": "code",
      "metadata": {
        "id": "sozzGD-cUY2t",
        "colab_type": "code",
        "colab": {}
      },
      "source": [
        "train(train_dataset, 1500)"
      ],
      "execution_count": 0,
      "outputs": []
    }
  ]
}